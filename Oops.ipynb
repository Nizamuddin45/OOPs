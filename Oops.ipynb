{
  "nbformat": 4,
  "nbformat_minor": 0,
  "metadata": {
    "colab": {
      "provenance": []
    },
    "kernelspec": {
      "name": "python3",
      "display_name": "Python 3"
    },
    "language_info": {
      "name": "python"
    }
  },
  "cells": [
    {
      "cell_type": "markdown",
      "source": [
        "# **OOPs**"
      ],
      "metadata": {
        "id": "vyiX7OLO1XK5"
      }
    },
    {
      "cell_type": "markdown",
      "source": [
        "**1. What is object oriented programming language?**\n",
        "-  Object oriented programming is a way in which we make the object and instance of classes.Object oriented programming make our code easier,secure and reusable. Here classes are the blueprint for creating objects and objects are the instance of classes.  "
      ],
      "metadata": {
        "id": "TQcS2Tse1gls"
      }
    },
    {
      "cell_type": "markdown",
      "source": [
        "**2. What is class in OOPs?**\n",
        "-  Class in OOPs is the blueprint for creating objects."
      ],
      "metadata": {
        "id": "RAfIr9Zc16aU"
      }
    },
    {
      "cell_type": "markdown",
      "source": [
        "**3. What is an object in OOPs?**\n",
        "-  Objects in OOPs are the instance of class.Class defines the properties and objects is created from that."
      ],
      "metadata": {
        "id": "mjN50fO-uXNf"
      }
    },
    {
      "cell_type": "markdown",
      "source": [
        "**4. What is the difference between abstraction and encapsulation?**\n",
        "-  Abstraction:- It hides the un-needed details and show only the important part. Abstraction can be achieved using abstract class. Abstract class cannot make objects.\n",
        "-  Encapsulation:- Encapsulation wraps up the data and method to keep it safe. It mainly focuses to protect the data."
      ],
      "metadata": {
        "id": "_hmcA8I8u0M7"
      }
    },
    {
      "cell_type": "markdown",
      "source": [
        "**5. What are dunder methods in Python?**\n",
        "-  Dunder methods in python are the special methods which starts and ends with double underscore. Ex:- __int__(),__add__()."
      ],
      "metadata": {
        "id": "6x1mj-KHv8K5"
      }
    },
    {
      "cell_type": "markdown",
      "source": [
        "**6. Explain the concept of inheritance in OOPs?**\n",
        "-  Inheritance means inherit the property from parent class to child class.There are many types of inheritance:-\n",
        "-  1. Single inheritance:- When derived class has only one parent class (A-->B).\n",
        "-  2. Multi-level inheritance:- It has a grandparent class, a parent class and a child class. Parent class inherit property from grandparent class and child class inherit property from parent class (A-->B-->C).\n",
        "-  3. Multiple inheritance:- In this inheritance a single child class inherit properties from multiple parent class (A+B-->C).\n",
        "-  4. Hierarchial inheritance:- In this inheritance one parent class has multiple child class (A-->B,A-->C,A-->D).\n",
        "-  5. Hybrid inheritance:- It is a combination of different inheritance."
      ],
      "metadata": {
        "id": "ylpVYFzqwXHz"
      }
    },
    {
      "cell_type": "markdown",
      "source": [
        "**7. What is polymorphism in OOPs?**\n",
        "-  Polymorphism in OOPs means ability of object or method to take many forms."
      ],
      "metadata": {
        "id": "6_KxZtUNAWrG"
      }
    },
    {
      "cell_type": "markdown",
      "source": [
        "**8. How encapsulation is achieved in Python?**\n",
        "-  Encapsulation is achieved in Python by using protected and private methods.Example:-"
      ],
      "metadata": {
        "id": "jRhbNd9MAmON"
      }
    },
    {
      "cell_type": "code",
      "source": [
        "class Student:\n",
        "  def __init__(self,name,marks):\n",
        "    self.name=name\n",
        "    self._college=\"MAIT\"\n",
        "    self._marks=marks\n",
        "  def show_marks(self):\n",
        "    print(f\"{self.name} marks:{self._marks}\")\n",
        "s=Student(\"Nizam\",75)\n",
        "print(s.name)\n",
        "print(s._college)\n",
        "s.show_marks()\n"
      ],
      "metadata": {
        "colab": {
          "base_uri": "https://localhost:8080/"
        },
        "id": "35PRrpoD9-3v",
        "outputId": "b536239f-1756-49a3-8394-3f28fdde743f"
      },
      "execution_count": null,
      "outputs": [
        {
          "output_type": "stream",
          "name": "stdout",
          "text": [
            "Nizam\n",
            "MAIT\n",
            "Nizam marks:75\n"
          ]
        }
      ]
    },
    {
      "cell_type": "markdown",
      "source": [
        "**9. What is constructor in Python?**\n",
        "-  A constructor is a special method in python.Constructor is called automatically when an object is called in python, we use init() as a constructor.  "
      ],
      "metadata": {
        "id": "ErGYDZay_Dn4"
      }
    },
    {
      "cell_type": "code",
      "source": [
        "class Student:\n",
        "  def __init__(self,name,age):\n",
        "    self.name=name\n",
        "    self.age=age\n",
        "s=Student(\"Nizam\",21)\n",
        "print(s.name)\n",
        "print(s.age)"
      ],
      "metadata": {
        "colab": {
          "base_uri": "https://localhost:8080/"
        },
        "id": "YgYiCTUQ_1jx",
        "outputId": "6b06ce17-764d-42ca-a32a-de50bd670d08"
      },
      "execution_count": null,
      "outputs": [
        {
          "output_type": "stream",
          "name": "stdout",
          "text": [
            "Nizam\n",
            "21\n"
          ]
        }
      ]
    },
    {
      "cell_type": "markdown",
      "source": [
        "**10. What are class and static method in Python?**\n",
        "-  Class method:- A method which work on class itself not just on object.The first parameter is used as cls not self and it is used by @classmethod.\n",
        "-  Static method:- A method that doesn't need object or class reference. It's like a normal function inside a class.It doesn't take self or cls.  "
      ],
      "metadata": {
        "id": "2PBzeJkNALwL"
      }
    },
    {
      "cell_type": "markdown",
      "source": [
        "**11. What is method overloading in Python?**\n",
        "-  Method overloading in python is a method in which a class has multiple methods with same name but different parameters."
      ],
      "metadata": {
        "id": "2fnELv_gBCQt"
      }
    },
    {
      "cell_type": "markdown",
      "source": [
        "**12. What is method overriding in Python?**\n",
        "-  Method overriding is a concept in OOPs where a child class provides a specific implementation of a method that is already defined in its parent class."
      ],
      "metadata": {
        "id": "gTTHgXT-BWsG"
      }
    },
    {
      "cell_type": "markdown",
      "source": [
        "**13. What is property decorator in Python?**\n",
        "-  The @property decorator in Python is used to turn a method into a \"read-only\" attribute.This lets you access methods like attributes,while still allowing logic behind the scenes."
      ],
      "metadata": {
        "id": "1n9tlxs2BuR_"
      }
    },
    {
      "cell_type": "markdown",
      "source": [
        "**14. Why is Polymorphism important in OOP?**\n",
        "-  Polymorphism is a very important concept in OOPs.It is extremely important because it makes code flexible, extensible and easy to maintain."
      ],
      "metadata": {
        "id": "9gwVbrF8C3IH"
      }
    },
    {
      "cell_type": "markdown",
      "source": [
        "**15. What is abstract class in python?**\n",
        "-  An abstract class in python is a class that cannot be instantiated directly and is meant to be inherited by other classes. It defines a blueprint for its subclasses and usually contains one or more abstract methods."
      ],
      "metadata": {
        "id": "kBmtBEBnDTtW"
      }
    },
    {
      "cell_type": "markdown",
      "source": [
        "**16. What are advantages of OOPs?**\n",
        "-  1. The code is organized into classes which provide good maintainability make it easier to find and fix bugs.\n",
        "-  2. We can use a class multiple times by just writing it once.\n",
        "-  3. Save time.\n",
        "-  4. OOPs allow us to hide complex details and only show the necessary features.\n",
        "-  5. OOPs provide access modifiers which help to protect data and keeping it safe."
      ],
      "metadata": {
        "id": "Fs6KjM1gDvI5"
      }
    },
    {
      "cell_type": "markdown",
      "source": [
        "**17. What is difference between a class variable and an instance variable?**\n",
        "-  Class variable:- it belongs to class itself.Changing in class method affects all the instance.\n",
        "-  Instance variable:- it belongs to the instance/object of class.Changing it won't affect others. Instance variable created using self."
      ],
      "metadata": {
        "id": "sT_by80DE8mG"
      }
    },
    {
      "cell_type": "markdown",
      "source": [
        "**18. What is multiple inheritance in Python?**\n",
        "-  Multiple inheritance means that a child class inherits property form more than one parent class."
      ],
      "metadata": {
        "id": "WZ9jRtrXFpPb"
      }
    },
    {
      "cell_type": "markdown",
      "source": [
        "**19. Explain the process of __str__  and __repr__ method in python?**\n",
        "- __str__\n",
        "-  Purpose is to return a nicely formatted string for the end user.\n",
        "-  It is called when you use str(object).\n",
        "-  It is readable and user-friendly.\n",
        "\n",
        "-  __repr__\n",
        "-  Purpose is to return an unambiguous string which is used mostly by developers.\n",
        "-  It is called when you use repr(object)."
      ],
      "metadata": {
        "id": "nCBqIgJXvR20"
      }
    },
    {
      "cell_type": "markdown",
      "source": [
        "**20. What is the significance of 'super()' function in Python?**\n",
        "-  super() is a built-in function in Python that allows you to call methods from the parent class inside a child class."
      ],
      "metadata": {
        "id": "ebs3_i7-xZgf"
      }
    },
    {
      "cell_type": "markdown",
      "source": [
        "**21. What is the significance of the __del__ method in Python?**\n",
        "-  __del__ is a special method in Python called as destructor.It automatically called when an object is about to destroy from the memory."
      ],
      "metadata": {
        "id": "nj0k1sE24rfc"
      }
    },
    {
      "cell_type": "markdown",
      "source": [
        "**22. What is the difference between @staticmethod and @classmethod in Python?**\n",
        "-  @staticmethod\n",
        "\n",
        "   -  It doesn't take self or cls as the first argument.\n",
        "   -  It act like a normal function but lives inside class.\n",
        "   -  Used when the method doesn't need to access class or instances.\n",
        "-  @classmethod\n",
        "\n",
        "   -  It takes cls as its first argument.\n",
        "   -  It can access and modify class variables.\n",
        "   -  Useful for working with class-level data."
      ],
      "metadata": {
        "id": "oxrAmit15lFb"
      }
    },
    {
      "cell_type": "markdown",
      "source": [
        "**23. How does polymorphism work in Python with inheritance?**\n",
        "- Polymorphism means many forms. In OOPs, polymorphism allow us to use the same method name for different classes, and the method behaves differently depending on the object.When you have a parent class and multiple child classes, and all of them have a same method with the same name, Python will automatically call the correct version of the method depending on which object you're using."
      ],
      "metadata": {
        "id": "3UVQUmHn6p7l"
      }
    },
    {
      "cell_type": "markdown",
      "source": [
        "**24. What is the method chaining in Python OOPs?**\n",
        "-  Method chaining means calling multiple methods on the same object in a  single line one after other - like a chain."
      ],
      "metadata": {
        "id": "bKM4nodX7h9I"
      }
    },
    {
      "cell_type": "markdown",
      "source": [
        "**25. What is the purpose of the __call__ method in Python?**\n",
        "-  The call method allows an object to behave like a function.When you define call inside a class, you can call its object like a regular function."
      ],
      "metadata": {
        "id": "XpGAh8PM7---"
      }
    },
    {
      "cell_type": "markdown",
      "source": [
        "# **====PRACTICAL QUESTIONS====**"
      ],
      "metadata": {
        "id": "u0KB6uKU8XO6"
      }
    },
    {
      "cell_type": "markdown",
      "source": [
        "**1. Create a parent class Animal with a method speak() that prints a genetic message. Create a child class Dog that overrides the speak() method to print \"Bark!\".**"
      ],
      "metadata": {
        "id": "fBOk0Xpq8hG-"
      }
    },
    {
      "cell_type": "code",
      "source": [
        "class Animal:\n",
        "  def speak(self):\n",
        "    print(\"Animal sound\")\n",
        "class Dog(Animal):\n",
        "  def speak(self):\n",
        "    print(\"Bark!\")\n",
        "a=Animal()\n",
        "a.speak()\n",
        "b=Dog()\n",
        "b.speak()"
      ],
      "metadata": {
        "colab": {
          "base_uri": "https://localhost:8080/"
        },
        "id": "AXLeQy3k5Qmy",
        "outputId": "0b0874a8-a78d-42db-a405-d6c1ced99956"
      },
      "execution_count": null,
      "outputs": [
        {
          "output_type": "stream",
          "name": "stdout",
          "text": [
            "Animal sound\n",
            "Bark!\n"
          ]
        }
      ]
    },
    {
      "cell_type": "markdown",
      "source": [
        "**2. Write a program to create an abstract class Shape with a method area().Derive classes Circle and Rectangle from it and implement the area() method in both.**"
      ],
      "metadata": {
        "id": "uSBYT0GV59ZQ"
      }
    },
    {
      "cell_type": "code",
      "source": [
        "from abc import ABC, abstractmethod\n",
        "class Shape(ABC):\n",
        "  @abstractmethod\n",
        "  def area(self):\n",
        "    pass\n",
        "class Circle(Shape):\n",
        "  def __init__(self,r):\n",
        "    self.r=r\n",
        "  def area(self):\n",
        "    return 3.14*self.r*self.r\n",
        "class Rectangle(Shape):\n",
        "  def __init__(self,l,b):\n",
        "    self.l=l\n",
        "    self.b=b\n",
        "  def area(self):\n",
        "    return self.l*self.b\n",
        "c= Circle(6)\n",
        "print(f\"area of circle:{c.area()}\")\n",
        "r= Rectangle(3,7)\n",
        "print(f\"area of rectange: {r.area()}\")\n",
        "\n"
      ],
      "metadata": {
        "colab": {
          "base_uri": "https://localhost:8080/"
        },
        "id": "s7Fml0616cIE",
        "outputId": "1d28df0c-6786-4320-87e7-9f678e950a82"
      },
      "execution_count": null,
      "outputs": [
        {
          "output_type": "stream",
          "name": "stdout",
          "text": [
            "area of circle:113.03999999999999\n",
            "area of rectange: 21\n"
          ]
        }
      ]
    },
    {
      "cell_type": "markdown",
      "source": [
        "**3. Implement a multi-level inheritance scenerio where a class Vehicle has an attribute type. Derive a class Car and further derive a class ElectricCar that adds a battery attribute.**"
      ],
      "metadata": {
        "id": "K5m9UUBl7nFe"
      }
    },
    {
      "cell_type": "code",
      "source": [
        "class Vehicle:\n",
        "  def __init__(self, type):\n",
        "    self.type=type\n",
        "  def show_type(self):\n",
        "    print(f\"type of vehicle is {self.type}\")\n",
        "class Car(Vehicle):\n",
        "  def __init__(self , type, brand):\n",
        "    super().__init__(type)\n",
        "    self.brand=brand\n",
        "  def show_brand(self):\n",
        "    print(f\"brand of car is: {self.brand}\")\n",
        "class ElectricCar(Car):\n",
        "  def __init__(self, type, brand, battery):\n",
        "    super().__init__(type, brand)\n",
        "    self.battery=battery\n",
        "  def show_battery(self):\n",
        "    print(f\"battery is : {self.battery}\")\n",
        "car=ElectricCar(\"four wheeler\", \"Lambo\", \"7000 kwh\")\n",
        "car.show_type()\n",
        "car.show_brand()\n",
        "car.show_battery()"
      ],
      "metadata": {
        "colab": {
          "base_uri": "https://localhost:8080/"
        },
        "id": "qXQT8pIo8Ues",
        "outputId": "1bc76f6b-7e8a-4c4d-cc1e-787eefcde530"
      },
      "execution_count": null,
      "outputs": [
        {
          "output_type": "stream",
          "name": "stdout",
          "text": [
            "type of vehicle is four wheeler\n",
            "brand of car is: Lambo\n",
            "battery is : 7000 kwh\n"
          ]
        }
      ]
    },
    {
      "cell_type": "markdown",
      "source": [
        "**4. Demonstrate polymorphism by creating a base class Bird with a method fly(). Create two derived classes Sparrow and Penguin that overrides the fly() method.**\n"
      ],
      "metadata": {
        "id": "JHWBlHpQ9yVI"
      }
    },
    {
      "cell_type": "code",
      "source": [
        "class Bird:\n",
        "  def fly(self):\n",
        "    print(\"The bird is flying\")\n",
        "class Sparrow(Bird):\n",
        "  def fly(self):\n",
        "    print(\"sparrow is flying at a high altitude\")\n",
        "class Penguin(Bird):\n",
        "  def fly(self):\n",
        "    print(\"Penguin can't fly\")\n",
        "def bird_fly(bird):\n",
        "  bird.fly()\n",
        "sparrow=Sparrow()\n",
        "penguin=Penguin()\n",
        "bird_fly(sparrow)\n",
        "bird_fly(penguin)"
      ],
      "metadata": {
        "colab": {
          "base_uri": "https://localhost:8080/"
        },
        "id": "bm1W_nRi-PsA",
        "outputId": "efb60e45-a413-437e-a70d-c9cf9a7735ae"
      },
      "execution_count": null,
      "outputs": [
        {
          "output_type": "stream",
          "name": "stdout",
          "text": [
            "sparrow is flying at a high altitude\n",
            "Penguin can't fly\n"
          ]
        }
      ]
    },
    {
      "cell_type": "markdown",
      "source": [
        "**5. Write a program to demonstrate encapsulation by creating a class BankAccount with private attributes balance and methods to deposit, withdraw and check balance.**"
      ],
      "metadata": {
        "id": "hrtcxu04_Br2"
      }
    },
    {
      "cell_type": "code",
      "source": [
        "class BankAccount:\n",
        "  def __init__(self, initial_balance=0):\n",
        "    self.balance=initial_balance\n",
        "  def deposit(self, amount):\n",
        "    if amount > 0:\n",
        "      self.balance=self.balance + amount\n",
        "      print(f\"amount deposited: {amount}\")\n",
        "    else:\n",
        "      print(\"money can't deposited\")\n",
        "  def withdraw(self, amount):\n",
        "    if 0 < amount <= self.balance:\n",
        "      self.balance = self.balance - amount\n",
        "      print(f\"withdraw amount is {amount}\")\n",
        "    else:\n",
        "      print(\"insufficient balance\")\n",
        "  def check_balance(self):\n",
        "    print(f\"Current balance: {self.balance}\")\n",
        "acc= BankAccount(20000)\n",
        "acc.check_balance()\n",
        "acc.deposit(1500)\n",
        "acc.withdraw(500)\n",
        "acc.check_balance()\n"
      ],
      "metadata": {
        "colab": {
          "base_uri": "https://localhost:8080/"
        },
        "id": "j_ZLamAQ_ZQq",
        "outputId": "a68d6f47-9a39-4386-d03a-faaa914b082d"
      },
      "execution_count": null,
      "outputs": [
        {
          "output_type": "stream",
          "name": "stdout",
          "text": [
            "Current balance: 20000\n",
            "amount deposited: 1500\n",
            "withdraw amount is 500\n",
            "Current balance: 21000\n"
          ]
        }
      ]
    },
    {
      "cell_type": "markdown",
      "source": [
        "**6. Demonstrate runtime polymorphism using a method play() in a base class Instrument. Derive classes Guitar and Piano that implement their own version of play().**"
      ],
      "metadata": {
        "id": "BEo9BRhkEEtK"
      }
    },
    {
      "cell_type": "code",
      "source": [
        "class Instrument:\n",
        "  def play(self):\n",
        "    print(\"Instrument is playing \")\n",
        "class Guitar(Instrument):\n",
        "  def play(self):\n",
        "    print(\"Guitar is playing\")\n",
        "class Piano(Instrument):\n",
        "  def play(self):\n",
        "    print(\"Piano is playing\")\n",
        "def start(instrument):\n",
        "  instrument.play()\n",
        "g=Guitar()\n",
        "p=Piano()\n",
        "start(g)\n",
        "start(p)"
      ],
      "metadata": {
        "colab": {
          "base_uri": "https://localhost:8080/"
        },
        "id": "7FHKdCgtEWyG",
        "outputId": "8cffef44-6f3a-4639-8402-3b29e83dc093"
      },
      "execution_count": null,
      "outputs": [
        {
          "output_type": "stream",
          "name": "stdout",
          "text": [
            "Guitar is playing\n",
            "Piano is playing\n"
          ]
        }
      ]
    },
    {
      "cell_type": "markdown",
      "source": [
        "**7. Create a class MathOperations with a class method add_numbers() to add two numbers and a static method subtract_numbers() to subtract two numbers.**"
      ],
      "metadata": {
        "id": "79K82bh0E-a_"
      }
    },
    {
      "cell_type": "code",
      "source": [
        "class MathOperations:\n",
        "  @classmethod\n",
        "  def add_numbers(cls,a,b):\n",
        "    return a + b\n",
        "  @staticmethod\n",
        "  def subtract_numbers(a,b):\n",
        "    return a - b\n",
        "m=MathOperations.add_numbers(4,5)\n",
        "print(\"addition of two number:\",m)\n",
        "s=MathOperations.subtract_numbers(7,3)\n",
        "print(\"subtraction of two number:\",s)\n"
      ],
      "metadata": {
        "id": "r5pr0SYsFPKn",
        "colab": {
          "base_uri": "https://localhost:8080/"
        },
        "outputId": "18bd1359-9ed9-4d20-b9b9-1b6508044088"
      },
      "execution_count": 2,
      "outputs": [
        {
          "output_type": "stream",
          "name": "stdout",
          "text": [
            "addition of two number: 9\n",
            "subtraction of two number: 4\n"
          ]
        }
      ]
    },
    {
      "cell_type": "markdown",
      "source": [
        "**8. Implement a class Person with a class method of count the total number of persons created.**  "
      ],
      "metadata": {
        "id": "a25DhCK0lutQ"
      }
    },
    {
      "cell_type": "code",
      "source": [
        "class Person:\n",
        "  count=0\n",
        "  def __init__(self,name):\n",
        "    self.name=name\n",
        "    Person.count +=1\n",
        "  @classmethod\n",
        "  def total_no_of_peoples(cls):\n",
        "    return cls.count\n",
        "first=Person(\"vaibhav\")\n",
        "second=Person(\"kohli\")\n",
        "third=Person(\"mohit\")\n",
        "print(\"total persons are:\",Person.total_no_of_peoples())"
      ],
      "metadata": {
        "colab": {
          "base_uri": "https://localhost:8080/"
        },
        "id": "qN4fvzCfl7bT",
        "outputId": "5f61905c-4d10-4c5b-8dde-600b66905077"
      },
      "execution_count": 3,
      "outputs": [
        {
          "output_type": "stream",
          "name": "stdout",
          "text": [
            "total persons are: 3\n"
          ]
        }
      ]
    },
    {
      "cell_type": "markdown",
      "source": [
        "**9. Write a class Fraction with attributes numerator and denominator.Override the str method to display the fraction as \"numerator/denominator.**"
      ],
      "metadata": {
        "id": "VM2uXncvmfL7"
      }
    },
    {
      "cell_type": "code",
      "source": [
        "class Fraction:\n",
        "  def __init__(self, numerator, denominator):\n",
        "    self.numerator=numerator\n",
        "    self.denominator=denominator\n",
        "  def __str__(self):\n",
        "    return f\"{self.numerator}/{self.denominator}\"\n",
        "f1=Fraction(3,4)\n",
        "f2=Fraction(7,8)\n",
        "print(f1)\n",
        "print(f2)\n",
        "\n"
      ],
      "metadata": {
        "colab": {
          "base_uri": "https://localhost:8080/"
        },
        "id": "EuBqEtLBmet0",
        "outputId": "40f2b3d7-f5dc-4d4b-901e-00355c131850"
      },
      "execution_count": 4,
      "outputs": [
        {
          "output_type": "stream",
          "name": "stdout",
          "text": [
            "3/4\n",
            "7/8\n"
          ]
        }
      ]
    },
    {
      "cell_type": "markdown",
      "source": [
        "**10. Demonstrate operator overloading by creating class Vector and overriding the add method to add two vectors.**"
      ],
      "metadata": {
        "id": "4v0RZ9FWnU_N"
      }
    },
    {
      "cell_type": "code",
      "source": [
        "class Vector:\n",
        "  def __init__(self,x,y):\n",
        "    self.x=x\n",
        "    self.y=y\n",
        "  def __add__(self,other):\n",
        "    return Vector(self.x + other.x, self.y + other.y)\n",
        "  def __str__(self):\n",
        "    return f\"vector({self.x}, {self.y})\"\n",
        "v1=Vector(2,3)\n",
        "v2=Vector(5,4)\n",
        "v3= v1 + v2\n",
        "print(\"v1:\", v1)\n",
        "print(\"v2:\", v2)\n",
        "print(\"v1+v2\", v3)"
      ],
      "metadata": {
        "colab": {
          "base_uri": "https://localhost:8080/"
        },
        "id": "K1sjQWGvnUuI",
        "outputId": "7a632987-6340-4f8c-ce41-be9321f54ece"
      },
      "execution_count": 8,
      "outputs": [
        {
          "output_type": "stream",
          "name": "stdout",
          "text": [
            "v1: vector(2, 3)\n",
            "v2: vector(5, 4)\n",
            "v1+v2 vector(7, 7)\n"
          ]
        }
      ]
    },
    {
      "cell_type": "markdown",
      "source": [
        "**11. Create a class Person with attributes name and age. Add a method greet() that prints \"Hello, my name is {name} and I am {age} years old.\"**"
      ],
      "metadata": {
        "id": "e6YQICHuovRu"
      }
    },
    {
      "cell_type": "code",
      "source": [
        "class Person:\n",
        "  def __init__(self, name ,age):\n",
        "    self.name=name\n",
        "    self.age=age\n",
        "  def greet(self):\n",
        "    print(f\"Hello, my name is {self.name} and I am {self.age} years old\")\n",
        "p=Person(\"Aditya\", 20)\n",
        "p.greet()"
      ],
      "metadata": {
        "colab": {
          "base_uri": "https://localhost:8080/"
        },
        "id": "BjqI9PxCou2e",
        "outputId": "bc17650e-2aa5-45a2-f8d2-af5bff7f3c34"
      },
      "execution_count": 10,
      "outputs": [
        {
          "output_type": "stream",
          "name": "stdout",
          "text": [
            "Hello, my name is Aditya and I am 20 years old\n"
          ]
        }
      ]
    },
    {
      "cell_type": "markdown",
      "source": [
        "**12. Implement a class Student with attributes name and grades.Create a method average_grade() to compute the average of the grades.**"
      ],
      "metadata": {
        "id": "QE4mJuQqot8Z"
      }
    },
    {
      "cell_type": "code",
      "source": [
        "class Student:\n",
        "  def __init__(self, name, grades):\n",
        "    self.name=name\n",
        "    self.grade=grades\n",
        "  def average_grade(self):\n",
        "    if len(self.grade) == 0:\n",
        "      return 0\n",
        "    return sum(self.grade)/len(self.grade)\n",
        "s=Student(\"varun\",[25,35,99,67,88])\n",
        "average =s.average_grade()\n",
        "print(\"average garde is :\", average)"
      ],
      "metadata": {
        "colab": {
          "base_uri": "https://localhost:8080/"
        },
        "id": "RV0Q-TDgpyqN",
        "outputId": "6d04f490-2cb2-4a7a-8119-bffff4fe0f5c"
      },
      "execution_count": 11,
      "outputs": [
        {
          "output_type": "stream",
          "name": "stdout",
          "text": [
            "average garde is : 62.8\n"
          ]
        }
      ]
    },
    {
      "cell_type": "markdown",
      "source": [
        "**13. Create a class Rectangle with methods set_dimensions() to set the dimensions and area() to calculate the area.**"
      ],
      "metadata": {
        "id": "2jKDsbAhqjRq"
      }
    },
    {
      "cell_type": "code",
      "source": [
        "class Rectangle:\n",
        "  def __init__(self):\n",
        "    self.length=0\n",
        "    self.width=0\n",
        "  def set_dimensions(self, length , width):\n",
        "    self.length = length\n",
        "    self.width= width\n",
        "  def area(self):\n",
        "    return self.length * self.width\n",
        "rect=Rectangle()\n",
        "rect.set_dimensions(4,3)\n",
        "print(\"area of rectangle:\", rect.area())\n",
        ""
      ],
      "metadata": {
        "colab": {
          "base_uri": "https://localhost:8080/"
        },
        "id": "4qIQQBCpqxg6",
        "outputId": "09f7a4ff-469d-4474-d0d7-941de97498da"
      },
      "execution_count": 12,
      "outputs": [
        {
          "output_type": "stream",
          "name": "stdout",
          "text": [
            "area of rectangle: 12\n"
          ]
        }
      ]
    },
    {
      "cell_type": "markdown",
      "source": [
        "**14. Create a class Employee with a method calculate_salary() that computes the salary based on hours worked and hourly rate. Create a derived class Manager that adds a bonus to the salary.**"
      ],
      "metadata": {
        "id": "hiCCDj_irXOa"
      }
    },
    {
      "cell_type": "code",
      "source": [
        "class Employee:\n",
        "  def __init__(self, name, hours_worked, hourly_rate):\n",
        "    self.name=name\n",
        "    self.hours_worked=hours_worked\n",
        "    self.hourly_rate=hourly_rate\n",
        "  def calculate_salary(self):\n",
        "    return self.hours_worked * self.hourly_rate\n",
        "class Manager(Employee):\n",
        "  def __init__(self, name, hours_worked,hourly_rate, bonus):\n",
        "    super().__init__(name, hours_worked, hourly_rate)\n",
        "    self.bonus=bonus\n",
        "  def claculate_salary(self):\n",
        "    base_salary=super().calculate_salary()\n",
        "    return base_salary + self.bonus\n",
        "e=Employee(\"Vaibhav\", 30,200)\n",
        "m=Manager(\"Sajith\", 45, 350, 50000)\n",
        "print(f\"{e.name} salary: ₹{e.calculate_salary()}\")\n",
        "print(f\"{m.name} salary: ₹{m.calculate_salary()}\")\n"
      ],
      "metadata": {
        "colab": {
          "base_uri": "https://localhost:8080/"
        },
        "id": "S0UwXeUFzoGQ",
        "outputId": "deb22cf0-ac06-4829-93c5-99ef12334dd0"
      },
      "execution_count": 15,
      "outputs": [
        {
          "output_type": "stream",
          "name": "stdout",
          "text": [
            "Vaibhav salary: ₹6000\n",
            "Sajith salary: ₹15750\n"
          ]
        }
      ]
    },
    {
      "cell_type": "markdown",
      "source": [
        "**15. Create a class Product with attributes name, price and quantity. Implement a method total_price() that calculates the total price of the product.**  "
      ],
      "metadata": {
        "id": "iYWdn2Xg1wiH"
      }
    },
    {
      "cell_type": "code",
      "source": [
        "class Product:\n",
        "  def __init__(self, name, price , quantity):\n",
        "    self.name=name\n",
        "    self.price=price\n",
        "    self.quantity=quantity\n",
        "  def total_price(self):\n",
        "    return self.price * self.quantity\n",
        "p=Product(\"Computer\", 10000, 3)\n",
        "print(\"total price:\",p.total_price())"
      ],
      "metadata": {
        "colab": {
          "base_uri": "https://localhost:8080/"
        },
        "id": "RB6KDaz91wGD",
        "outputId": "5646175a-dfa0-4f3a-a8e2-b296254c3d8b"
      },
      "execution_count": 16,
      "outputs": [
        {
          "output_type": "stream",
          "name": "stdout",
          "text": [
            "total price: 30000\n"
          ]
        }
      ]
    },
    {
      "cell_type": "markdown",
      "source": [
        "**16. Create a class Animal with an abstract method sound(). Create two derived classes Cow and Sheep that implement the sound() method.**"
      ],
      "metadata": {
        "id": "omgB4Z-m2zEg"
      }
    },
    {
      "cell_type": "code",
      "source": [
        "from abc import ABC, abstractmethod\n",
        "class Animal(ABC):\n",
        "  @abstractmethod\n",
        "  def sound(self):\n",
        "    pass\n",
        "class Cow(Animal):\n",
        "  def sound(self):\n",
        "    return \"moo\"\n",
        "class Sheep(Animal):\n",
        "  def sound(self):\n",
        "    return \"baa\"\n",
        "c=Cow()\n",
        "s=Sheep()\n",
        "print(\"cow sounds like:\",c.sound())\n",
        "print(\"sheep sounds like:\",s.sound())"
      ],
      "metadata": {
        "colab": {
          "base_uri": "https://localhost:8080/"
        },
        "id": "-YYXYkZg2yuG",
        "outputId": "03f1fe0b-191f-4687-efdb-bee106f9e724"
      },
      "execution_count": 18,
      "outputs": [
        {
          "output_type": "stream",
          "name": "stdout",
          "text": [
            "cow sounds like: moo\n",
            "sheep sounds like: baa\n"
          ]
        }
      ]
    },
    {
      "cell_type": "markdown",
      "source": [
        "**17. Create a class Book with attributes title, author and year_published. Add a method get_book_info() that returns a formatted string with the book's details.**"
      ],
      "metadata": {
        "id": "8d0CWOrc3u2W"
      }
    },
    {
      "cell_type": "code",
      "source": [
        "class Book:\n",
        "  def __init__(self, title, author, year_published):\n",
        "    self.title=title\n",
        "    self.author=author\n",
        "    self.year_published=year_published\n",
        "  def get_book_info(self):\n",
        "    return f\"Title:{self.title}, Author:{self.author}, Year:{self.year_published}\"\n",
        "b=Book(\"English\",\"Henry\",1987)\n",
        "print(b.get_book_info())"
      ],
      "metadata": {
        "colab": {
          "base_uri": "https://localhost:8080/"
        },
        "id": "x6FK-tOg3ugG",
        "outputId": "0d30584e-e65c-44c9-aa19-02f61cf04a27"
      },
      "execution_count": 21,
      "outputs": [
        {
          "output_type": "stream",
          "name": "stdout",
          "text": [
            "Title:English, Author:Henry, Year:1987\n"
          ]
        }
      ]
    },
    {
      "cell_type": "markdown",
      "source": [
        "**18. Create a class House with attributes address and price. Create a derived class Mansion that adds an attribute number_of_rooms.**"
      ],
      "metadata": {
        "id": "Jd40_bA75Eex"
      }
    },
    {
      "cell_type": "code",
      "source": [
        "class House:\n",
        "  def __init__(self, address, price):\n",
        "    self.address=address\n",
        "    self.price=price\n",
        "class Mansion(House):\n",
        "  def __init__(self, address, price, number_of_rooms):\n",
        "    super().__init__(address, price)\n",
        "    self.number_of_rooms = number_of_rooms\n",
        "m=Mansion(\"123 dream street\", 300000000, 10)\n",
        "print(f\"Address: {m.address}\")\n",
        "print(f\"Price: ₹{m.price}\")\n",
        "print(f\"Number of rooms:{m.number_of_rooms}\")"
      ],
      "metadata": {
        "colab": {
          "base_uri": "https://localhost:8080/"
        },
        "id": "xgV1v0PH5Rzz",
        "outputId": "fc8d2794-20ca-4632-81de-26a3e0ee9601"
      },
      "execution_count": 22,
      "outputs": [
        {
          "output_type": "stream",
          "name": "stdout",
          "text": [
            "Address: 123 dream street\n",
            "Price: ₹300000000\n",
            "Number of rooms:10\n"
          ]
        }
      ]
    }
  ]
}